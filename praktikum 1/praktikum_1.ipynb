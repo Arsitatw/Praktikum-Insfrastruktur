{
 "cells": [
  {
   "cell_type": "code",
   "execution_count": 2,
   "metadata": {},
   "outputs": [
    {
     "name": "stdout",
     "output_type": "stream",
     "text": [
      "2 \n",
      "3 5 \n",
      "7 11 13 \n",
      "17 19 23 29 \n",
      "31 37 41 43 47 \n"
     ]
    }
   ],
   "source": [
    "#Buatlah program yang dapat menghasilkan pola berbentuk angka seperti di bawah ini, \n",
    "#dengan syarat angka yang ditampilkan adalah hasil dari penjumlahan bilangan prima sebelumnya\n",
    "#Jumlah angka pada setiap baris bertambah 1, dan bilangan yang ditampilkan adalah bilangan prima\n",
    "\n",
    "def apakah_prima(angka):\n",
    "    if angka < 2:\n",
    "        return False\n",
    "    for i in range(2, int(angka ** 0.5) + 1):\n",
    "        if angka % i == 0:\n",
    "            return False\n",
    "    return True\n",
    "\n",
    "def buat_pola_prima(n):\n",
    "    prima = []\n",
    "    angka = 2\n",
    "    jumlah_baris = 1\n",
    "    \n",
    "    # Mengumpulkan bilangan prima sebanyak total angka yang dibutuhkan\n",
    "    while len(prima) < sum(range(1, n+1)):\n",
    "        if apakah_prima(angka):\n",
    "            prima.append(angka)\n",
    "        angka += 1\n",
    "\n",
    "    indeks = 0\n",
    "    for baris in range(1, n+1):\n",
    "        for kolom in range(baris):\n",
    "            print(prima[indeks], end=\" \")\n",
    "            indeks += 1\n",
    "        print()\n",
    "\n",
    "buat_pola_prima(5)\n",
    "\n"
   ]
  },
  {
   "cell_type": "code",
   "execution_count": null,
   "metadata": {},
   "outputs": [],
   "source": [
    "#Buatlah sebuah fungsi yang menerima dua input berupa list angka. Fungsi ini harus mengembalikan sebuah list baru yang berisi elemen dari dua list input yang memiliki indeks ganjil. List baru tersebut juga harus diurutkan secara menurun berdasarkan nilai elemen.\n",
    "def gabung_urut_indeks_ganjil(list1, list2):\n",
    "    # Ambil elemen dari indeks ganjil di kedua list\n",
    "    elemen_ganjil_list1 = [list1[i] for i in range(1, len(list1), 2)]\n",
    "    elemen_ganjil_list2 = [list2[i] for i in range(1, len(list2), 2)]\n",
    "\n",
    "    # Gabungkan kedua list\n",
    "    gabungan = elemen_ganjil_list1 + elemen_ganjil_list2\n",
    "\n",
    "    # Urutkan list secara menurun\n",
    "    gabungan.sort(reverse=True)\n",
    "\n",
    "    return gabungan\n",
    "\n",
    "# Contoh penggunaan:\n",
    "list1 = [10, 21, 34, 45, 56, 67]\n",
    "list2 = [9, 18, 27, 36, 45, 54]\n",
    "\n",
    "hasil = gabung_urut_indeks_ganjil(list1, list2)\n",
    "print(hasil)\n"
   ]
  }
 ],
 "metadata": {
  "kernelspec": {
   "display_name": "Python 3",
   "language": "python",
   "name": "python3"
  },
  "language_info": {
   "codemirror_mode": {
    "name": "ipython",
    "version": 3
   },
   "file_extension": ".py",
   "mimetype": "text/x-python",
   "name": "python",
   "nbconvert_exporter": "python",
   "pygments_lexer": "ipython3",
   "version": "3.12.6"
  }
 },
 "nbformat": 4,
 "nbformat_minor": 2
}
